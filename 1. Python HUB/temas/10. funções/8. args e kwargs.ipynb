{
 "cells": [
  {
   "cell_type": "markdown",
   "metadata": {},
   "source": [
    "# Funções - Args e Kwargs (Argumentos Múltiplos)"
   ]
  },
  {
   "cell_type": "markdown",
   "metadata": {},
   "source": [
    "*args:  \n",
    "transformar o seu parâmetro em uma arg vai fazer com que o python entenda que sua função poderá receber QUANTOS argumentos POSICIONAIS forem necessários, de 1 até infinito.  \n",
    "\n",
    "quando uma arg é usada, o parâmetro se transforma em um argumento posicional  \n",
    "uma arg se torna uma TUPLA"
   ]
  },
  {
   "cell_type": "code",
   "execution_count": 3,
   "metadata": {},
   "outputs": [
    {
     "name": "stdout",
     "output_type": "stream",
     "text": [
      "9.0\n",
      "7.857142857142857\n"
     ]
    }
   ],
   "source": [
    "# forma tradicional de colocar parâmetros\n",
    "def calcular_media1(nota1, nota2):\n",
    "    soma = nota1 + nota2\n",
    "    return soma / 2\n",
    "\n",
    "# forma usando arg\n",
    "def calcular_media2(*notas):\n",
    "    soma = 0\n",
    "    for nota in notas:\n",
    "        soma += nota\n",
    "    return soma/(len(notas))\n",
    "\n",
    "print(calcular_media1(10, 8))\n",
    "print(calcular_media2(10, 5, 7, 10, 9, 6, 8))\n"
   ]
  },
  {
   "cell_type": "markdown",
   "metadata": {},
   "source": [
    "Quando você for usar uma arg, você deve escrever a sua função de uma forma que ela esteja PREPARADA para receber múltiplos argumentos, por isso os códigos acima são diferentes, apesar de ambos calcularem notas."
   ]
  },
  {
   "cell_type": "markdown",
   "metadata": {},
   "source": [
    "**kwargs:  \n",
    "transformar o seu parâmetro em uma kwarg vai fazer com que o python entenda que sua função poderá receber QUANTOS argumentos NOMEADOS forem necessários, de 1 até infinito.  \n",
    "\n",
    "quando uma kwarg é usada, o parâmetro se transforma em um argumento NOMEADO  \n",
    "uma kwarg se torna um DICIONÁRIO"
   ]
  },
  {
   "cell_type": "code",
   "execution_count": 6,
   "metadata": {},
   "outputs": [
    {
     "name": "stdout",
     "output_type": "stream",
     "text": [
      "{'desconto': 0.1, 'garantia_extra': 100, 'imposto': 0.2, 'frete': 10}\n",
      "1200.0\n"
     ]
    }
   ],
   "source": [
    "def preco_final(preco, **adicionais):\n",
    "    print(adicionais) # -> vira um dicionário\n",
    "    if 'desconto' in adicionais:\n",
    "        preco *= (1 - adicionais['desconto'])\n",
    "    if 'garantia_extra' in adicionais:\n",
    "        preco += adicionais['garantia_extra']\n",
    "    if 'imposto' in adicionais:\n",
    "        preco *= (1 + adicionais['imposto'])\n",
    "    return preco\n",
    "\n",
    "print(preco_final(1000, desconto=0.1, garantia_extra=100, imposto=0.2, frete=10))"
   ]
  },
  {
   "cell_type": "code",
   "execution_count": null,
   "metadata": {},
   "outputs": [],
   "source": []
  }
 ],
 "metadata": {
  "kernelspec": {
   "display_name": "Python 3",
   "language": "python",
   "name": "python3"
  },
  "language_info": {
   "codemirror_mode": {
    "name": "ipython",
    "version": 3
   },
   "file_extension": ".py",
   "mimetype": "text/x-python",
   "name": "python",
   "nbconvert_exporter": "python",
   "pygments_lexer": "ipython3",
   "version": "3.12.8"
  }
 },
 "nbformat": 4,
 "nbformat_minor": 2
}
